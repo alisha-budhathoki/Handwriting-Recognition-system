{
 "cells": [
  {
   "cell_type": "code",
   "execution_count": 1,
   "id": "0e182b2f",
   "metadata": {},
   "outputs": [
    {
     "data": {
      "image/png": "[encoded data removed]",
      "text/plain": [
       "<Figure size 432x288 with 1 Axes>"
      ]
     },
     "metadata": {
      "needs_background": "light"
     },
     "output_type": "display_data"
    },
    {
     "data": {
      "image/png": "[encoded data removed]",
      "text/plain": [
       "<Figure size 432x288 with 1 Axes>"
      ]
     },
     "metadata": {
      "needs_background": "light"
     },
     "output_type": "display_data"
    },
    {
     "data": {
      "image/png": "[encoded data removed]",
      "text/plain": [
       "<Figure size 432x288 with 1 Axes>"
      ]
     },
     "metadata": {
      "needs_background": "light"
     },
     "output_type": "display_data"
    },
    {
     "data": {
      "image/png": "[encoded data removed]",
      "text/plain": [
       "<Figure size 432x288 with 1 Axes>"
      ]
     },
     "metadata": {
      "needs_background": "light"
     },
     "output_type": "display_data"
    },
    {
     "data": {
      "image/png": "[encoded data removed]",
      "text/plain": [
       "<Figure size 432x288 with 1 Axes>"
      ]
     },
     "metadata": {
      "needs_background": "light"
     },
     "output_type": "display_data"
    },
    {
     "data": {
      "image/png": "[encoded data removed]",
      "text/plain": [
       "<Figure size 432x288 with 1 Axes>"
      ]
     },
     "metadata": {
      "needs_background": "light"
     },
     "output_type": "display_data"
    },
    {
     "data": {
      "image/png": "[encoded data removed]",
      "text/plain": [
       "<Figure size 432x288 with 1 Axes>"
      ]
     },
     "metadata": {
      "needs_background": "light"
     },
     "output_type": "display_data"
    },
    {
     "data": {
      "image/png": "[encoded data removed]",
      "text/plain": [
       "<Figure size 432x288 with 1 Axes>"
      ]
     },
     "metadata": {
      "needs_background": "light"
     },
     "output_type": "display_data"
    },
    {
     "data": {
      "image/png": "[encoded data removed]",
      "text/plain": [
       "<Figure size 432x288 with 1 Axes>"
      ]
     },
     "metadata": {
      "needs_background": "light"
     },
     "output_type": "display_data"
    },
    {
     "data": {
      "image/png": "[encoded data removed]",
      "text/plain": [
       "<Figure size 432x288 with 1 Axes>"
      ]
     },
     "metadata": {
      "needs_background": "light"
     },
     "output_type": "display_data"
    },
    {
     "name": "stdout",
     "output_type": "stream",
     "text": [
      "Model: \"sequential\"\n",
      "_________________________________________________________________\n",
      "Layer (type)                 Output Shape              Param #   \n",
      "=================================================================\n",
      "conv2d (Conv2D)              (None, 26, 26, 32)        320       \n",
      "_________________________________________________________________\n",
      "conv2d_1 (Conv2D)            (None, 26, 26, 28)        22428     \n",
      "_________________________________________________________________\n",
      "batch_normalization (BatchNo (None, 26, 26, 28)        112       \n",
      "_________________________________________________________________\n",
      "conv2d_2 (Conv2D)            (None, 22, 22, 28)        19628     \n",
      "_________________________________________________________________\n",
      "max_pooling2d (MaxPooling2D) (None, 11, 11, 28)        0         \n",
      "_________________________________________________________________\n",
      "dropout (Dropout)            (None, 11, 11, 28)        0         \n",
      "_________________________________________________________________\n",
      "conv2d_3 (Conv2D)            (None, 11, 11, 32)        22432     \n",
      "_________________________________________________________________\n",
      "batch_normalization_1 (Batch (None, 11, 11, 32)        128       \n",
      "_________________________________________________________________\n",
      "conv2d_4 (Conv2D)            (None, 7, 7, 32)          25632     \n",
      "_________________________________________________________________\n",
      "max_pooling2d_1 (MaxPooling2 (None, 3, 3, 32)          0         \n",
      "_________________________________________________________________\n",
      "dropout_1 (Dropout)          (None, 3, 3, 32)          0         \n",
      "_________________________________________________________________\n",
      "flatten (Flatten)            (None, 288)               0         \n",
      "_________________________________________________________________\n",
      "dense (Dense)                (None, 512)               147968    \n",
      "_________________________________________________________________\n",
      "dropout_2 (Dropout)          (None, 512)               0         \n",
      "_________________________________________________________________\n",
      "dense_1 (Dense)              (None, 10)                5130      \n",
      "=================================================================\n",
      "Total params: 243,778\n",
      "Trainable params: 243,658\n",
      "Non-trainable params: 120\n",
      "_________________________________________________________________\n",
      "Epoch 1/50\n",
      "1313/1313 [==============================] - 183s 139ms/step - loss: 0.0574 - accuracy: 0.7856 - val_loss: 0.0174 - val_accuracy: 0.9552\n",
      "\n",
      "Epoch 00001: accuracy improved from -inf to 0.78560, saving model to .\\bestmodel.h5\n",
      "Epoch 2/50\n",
      "1313/1313 [==============================] - 198s 151ms/step - loss: 0.0204 - accuracy: 0.9557 - val_loss: 0.0113 - val_accuracy: 0.9751\n",
      "\n",
      "Epoch 00002: accuracy improved from 0.78560 to 0.95569, saving model to .\\bestmodel.h5\n",
      "Epoch 3/50\n",
      "1313/1313 [==============================] - 192s 146ms/step - loss: 0.0149 - accuracy: 0.9737 - val_loss: 0.0064 - val_accuracy: 0.9844\n",
      "\n",
      "Epoch 00003: accuracy improved from 0.95569 to 0.97369, saving model to .\\bestmodel.h5\n",
      "Epoch 4/50\n",
      "1313/1313 [==============================] - 204s 155ms/step - loss: 0.0120 - accuracy: 0.9811 - val_loss: 0.0061 - val_accuracy: 0.9859\n",
      "\n",
      "Epoch 00004: accuracy improved from 0.97369 to 0.98114, saving model to .\\bestmodel.h5\n",
      "Epoch 5/50\n",
      "1313/1313 [==============================] - 200s 152ms/step - loss: 0.0102 - accuracy: 0.9855 - val_loss: 0.0075 - val_accuracy: 0.9849\n",
      "\n",
      "Epoch 00005: accuracy improved from 0.98114 to 0.98550, saving model to .\\bestmodel.h5\n",
      "Epoch 6/50\n",
      "1313/1313 [==============================] - 206s 157ms/step - loss: 0.0089 - accuracy: 0.9874 - val_loss: 0.0052 - val_accuracy: 0.9867\n",
      "\n",
      "Epoch 00006: accuracy improved from 0.98550 to 0.98743, saving model to .\\bestmodel.h5\n",
      "Epoch 7/50\n",
      "1313/1313 [==============================] - 184s 140ms/step - loss: 0.0082 - accuracy: 0.9891 - val_loss: 0.0045 - val_accuracy: 0.9897\n",
      "\n",
      "Epoch 00007: accuracy improved from 0.98743 to 0.98907, saving model to .\\bestmodel.h5\n",
      "Epoch 8/50\n",
      "1313/1313 [==============================] - 194s 148ms/step - loss: 0.0075 - accuracy: 0.9897 - val_loss: 0.0050 - val_accuracy: 0.9895\n",
      "\n",
      "Epoch 00008: accuracy improved from 0.98907 to 0.98969, saving model to .\\bestmodel.h5\n",
      "Epoch 9/50\n",
      "1313/1313 [==============================] - 194s 147ms/step - loss: 0.0072 - accuracy: 0.9911 - val_loss: 0.0049 - val_accuracy: 0.9914\n",
      "\n",
      "Epoch 00009: accuracy improved from 0.98969 to 0.99114, saving model to .\\bestmodel.h5\n",
      "Epoch 10/50\n",
      "1313/1313 [==============================] - 181s 138ms/step - loss: 0.0068 - accuracy: 0.9923 - val_loss: 0.0034 - val_accuracy: 0.9913\n",
      "\n",
      "Epoch 00010: accuracy improved from 0.99114 to 0.99233, saving model to .\\bestmodel.h5\n",
      "Epoch 00010: early stopping\n",
      "313/313 [==============================] - 9s 27ms/step - loss: 0.0032 - accuracy: 0.9934\n",
      "the model accuracy is 0.993399977684021\n"
     ]
    }
   ],
   "source": [
    "import numpy as np\n",
    "import matplotlib.pyplot as plt\n",
    "import tensorflow as tf\n",
    "\n",
    "import keras \n",
    "from keras.datasets import mnist\n",
    "\n",
    "from keras.utils import np_utils\n",
    "from keras.models import Sequential\n",
    "from keras.layers import Dense, Conv2D, MaxPool2D, Flatten, Dropout\n",
    "from tensorflow.keras.layers import BatchNormalization\n",
    "\n",
    "# Get the data and preprocess it\n",
    "\n",
    "(X_train, y_train), (X_test, y_test) = mnist.load_data()\n",
    "\n",
    "X_train.shape , y_train.shape , X_test.shape , y_test.shape\n",
    "\n",
    "def plot_input_img(i):\n",
    "    plt.imshow(X_train[i], cmap='binary')\n",
    "    plt.title(y_train[i])\n",
    "    plt.axis('off')\n",
    "    plt.show()\n",
    "\n",
    "for i in range(10):\n",
    "    plot_input_img(i)\n",
    "\n",
    "# Preprocess images \n",
    "# Normalizing image to [0,1] range\n",
    "X_train = X_train.astype(np.float32)/255\n",
    "X_test = X_test.astype(np.float32)/255   \n",
    "\n",
    "# Reshape / expand the dimesnsions of images to (28,28,1)\n",
    "X_train = np.expand_dims(X_train, -1)\n",
    "X_test = np.expand_dims(X_test, -1)\n",
    "\n",
    "# convert classes to one hot vectors\n",
    "y_train = np_utils.to_categorical(y_train)\n",
    "y_test = np_utils.to_categorical(y_test)\n",
    "\n",
    "model=Sequential()\n",
    "model.add(Conv2D(32, (3,3), input_shape = (28,28,1), activation = 'relu'))\n",
    "\n",
    "model.add(Conv2D(28,(5,5),padding='same', activation = 'relu',input_shape=X_train.shape[1:]))\n",
    "model.add(BatchNormalization())\n",
    "model.add(Conv2D(28,(5,5),  activation = 'relu'))\n",
    "model.add(MaxPool2D(pool_size=(2,2)))\n",
    "model.add(Dropout(0.25))\n",
    "\n",
    "model.add(Conv2D(32,(5,5),padding='same',input_shape=X_train.shape[1:], activation = 'relu'))\n",
    "model.add(BatchNormalization())\n",
    "model.add(Conv2D(32,(5,5),  activation = 'relu'))\n",
    "model.add(MaxPool2D(pool_size=(2,2)))\n",
    "model.add(Dropout(0.25))\n",
    "\n",
    "model.add(Flatten())\n",
    "model.add(Dense(512),  )\n",
    "# model.add(Activation('relu'))\n",
    "model.add(Dropout(0.25))\n",
    "model.add(Dense(10))\n",
    "# model.add(Activation('softmax'))\n",
    "\n",
    "\n",
    "model.summary()\n",
    "\n",
    "model.compile(optimizer = 'adam', loss = \"mse\", metrics = ['accuracy'])\n",
    "\n",
    "# Callbacks\n",
    "\n",
    "from keras.callbacks import EarlyStopping, ModelCheckpoint\n",
    "\n",
    "#EarlyStopping \n",
    "es = EarlyStopping(monitor = 'accuracy', min_delta = 0.01, patience = 5, verbose =1, mode= 'max')\n",
    "\n",
    "# Model checkpoint\n",
    "mc = ModelCheckpoint(\"./bestmodel.h5\", monitor= 'accuracy',verbose =1, save_best_only = True, mode= 'max')\n",
    "\n",
    "cb = [es, mc]\n",
    "\n",
    "# Model Training\n",
    "his = model.fit(X_train, y_train, epochs=50, validation_split = 0.3,  callbacks = cb)\n",
    "\n",
    "model_S = keras.models.load_model(\"./bestModel.h5\")\n",
    "\n",
    "score = model_S.evaluate(X_test, y_test)\n",
    "print(f\"the model accuracy is {score[1]}\")\n",
    "\n"
   ]
  },
  {
   "cell_type": "code",
   "execution_count": null,
   "id": "46bbe8e2",
   "metadata": {},
   "outputs": [],
   "source": []
  }
 ],
 "metadata": {
  "kernelspec": {
   "display_name": "Python 3",
   "language": "python",
   "name": "python3"
  },
  "language_info": {
   "codemirror_mode": {
    "name": "ipython",
    "version": 3
   },
   "file_extension": ".py",
   "mimetype": "text/x-python",
   "name": "python",
   "nbconvert_exporter": "python",
   "pygments_lexer": "ipython3",
   "version": "3.6.13"
  }
 },
 "nbformat": 4,
 "nbformat_minor": 5
}
